{
  "nbformat": 4,
  "nbformat_minor": 0,
  "metadata": {
    "colab": {
      "provenance": [],
      "authorship_tag": "ABX9TyPP4S/GqD7uLQrV67UkR1WJ",
      "include_colab_link": true
    },
    "kernelspec": {
      "name": "python3",
      "display_name": "Python 3"
    },
    "language_info": {
      "name": "python"
    }
  },
  "cells": [
    {
      "cell_type": "markdown",
      "metadata": {
        "id": "view-in-github",
        "colab_type": "text"
      },
      "source": [
        "<a href=\"https://colab.research.google.com/github/RealGIS-creator/scripts_realgis_banistmo_2025/blob/main/Preparacion_InsertFolios.ipynb\" target=\"_parent\"><img src=\"https://colab.research.google.com/assets/colab-badge.svg\" alt=\"Open In Colab\"/></a>"
      ]
    },
    {
      "cell_type": "code",
      "source": [
        "import pandas as pd\n",
        "import os\n",
        "\n",
        "all_files = os.listdir()\n",
        "\n",
        "csv_files = [f for f in all_files if f.endswith('.csv')]\n",
        "\n",
        "df_list = []\n",
        "\n",
        "for csv_file in csv_files:\n",
        "    try:\n",
        "        df = pd.read_csv(csv_file)\n",
        "        df_list.append(df)\n",
        "        print(f\"Successfully read {csv_file}\")\n",
        "    except Exception as e:\n",
        "        print(f\"Error reading {csv_file}: {e}\")\n",
        "\n",
        "if df_list:\n",
        "    combined_df = pd.concat(df_list, ignore_index=True)\n",
        "\n",
        "    print(\"\\nCombined DataFrame (first 5 rows):\")\n",
        "    print(combined_df.head())\n",
        "\n",
        "else:\n",
        "    print(\"No CSV files found to combine.\")\n",
        "\n",
        "\n",
        "combined_df.to_csv('DatosFolios_27052025.csv', index=False)\n",
        "\n",
        "from google.colab import files\n",
        "files.download('DatosFolios_27052025.csv')"
      ],
      "metadata": {
        "colab": {
          "base_uri": "https://localhost:8080/",
          "height": 607
        },
        "id": "BMyLruAYHACB",
        "outputId": "dd4165cf-5c1f-4128-fd80-05fbeaed1c49"
      },
      "execution_count": null,
      "outputs": [
        {
          "output_type": "stream",
          "name": "stdout",
          "text": [
            "Successfully read DatosFolio3.csv\n",
            "Successfully read DatosFolio2.csv\n",
            "Successfully read DatosFolio1.csv\n",
            "Successfully read DatosFolio5.csv\n",
            "Successfully read DatosFolio4.csv\n",
            "\n",
            "Combined DataFrame (first 5 rows):\n",
            "  IDENTIFICACION                              FOLIO / FINCA / FICHA   \\\n",
            "0      2-724-2339  (INMUEBLE) PANAMÁ Código de Ubicación 8716  Fo...   \n",
            "1       2-730-756  (INMUEBLE) PENONOMÉ Código de Ubicación 2501  ...   \n",
            "2       9-710-479  (INMUEBLE) SANTIAGO Código de Ubicación 9908  ...   \n",
            "3       8-901-296  (INMUEBLE) ARRAIJÁN Código de Ubicación 8003  ...   \n",
            "4      8-817-2007  (INMUEBLE) LA CHORRERA Código de Ubicación 861...   \n",
            "\n",
            "                                    PROPIETARIO   \\\n",
            "0       LUIS ANTONIO GOMEZ SAMANIEGO (Propiedad)   \n",
            "1             ANA GABRIELA ARCIA . . (Propiedad)   \n",
            "2        RUBEN DARIO CASTILLO IBARRA (Propiedad)   \n",
            "3  jose ricauther martinez caballero (Propiedad)   \n",
            "4      YERALDINE ELIZABETH RODRIGUEZ (Propiedad)   \n",
            "\n",
            "                                          DOMICILIO   \\\n",
            "0  EDIFICIO P.H. ALTOS DE AZUL SM4 2.  LOTE 12  C...   \n",
            "1  LOTE NO.246  CORREGIMIENTO PENONOMÉ  DISTRITO ...   \n",
            "2  LOTE 33  CORREGIMIENTO LOS ALGARROBOS  DISTRIT...   \n",
            "3  LOTE C-53  CORREGIMIENTO NUEVO EMPERADOR  DIST...   \n",
            "4    LOTE E4  DISTRITO LA CHORRERA  PROVINCIA PANAMÁ   \n",
            "\n",
            "                                        FOLIOS MADRE  \n",
            "0  (INMUEBLE) PANAMÁ Código de Ubicación 8716  Fo...  \n",
            "1  (INMUEBLE) PENONOMÉ Código de Ubicación 2501  ...  \n",
            "2  (INMUEBLE) SANTIAGO Código de Ubicación 9908  ...  \n",
            "3  (INMUEBLE) ARRAIJÁN Código de Ubicación 8003  ...  \n",
            "4  (INMUEBLE) LA CHORRERA Código de Ubicación 861...  \n"
          ]
        },
        {
          "output_type": "display_data",
          "data": {
            "text/plain": [
              "<IPython.core.display.Javascript object>"
            ],
            "application/javascript": [
              "\n",
              "    async function download(id, filename, size) {\n",
              "      if (!google.colab.kernel.accessAllowed) {\n",
              "        return;\n",
              "      }\n",
              "      const div = document.createElement('div');\n",
              "      const label = document.createElement('label');\n",
              "      label.textContent = `Downloading \"${filename}\": `;\n",
              "      div.appendChild(label);\n",
              "      const progress = document.createElement('progress');\n",
              "      progress.max = size;\n",
              "      div.appendChild(progress);\n",
              "      document.body.appendChild(div);\n",
              "\n",
              "      const buffers = [];\n",
              "      let downloaded = 0;\n",
              "\n",
              "      const channel = await google.colab.kernel.comms.open(id);\n",
              "      // Send a message to notify the kernel that we're ready.\n",
              "      channel.send({})\n",
              "\n",
              "      for await (const message of channel.messages) {\n",
              "        // Send a message to notify the kernel that we're ready.\n",
              "        channel.send({})\n",
              "        if (message.buffers) {\n",
              "          for (const buffer of message.buffers) {\n",
              "            buffers.push(buffer);\n",
              "            downloaded += buffer.byteLength;\n",
              "            progress.value = downloaded;\n",
              "          }\n",
              "        }\n",
              "      }\n",
              "      const blob = new Blob(buffers, {type: 'application/binary'});\n",
              "      const a = document.createElement('a');\n",
              "      a.href = window.URL.createObjectURL(blob);\n",
              "      a.download = filename;\n",
              "      div.appendChild(a);\n",
              "      a.click();\n",
              "      div.remove();\n",
              "    }\n",
              "  "
            ]
          },
          "metadata": {}
        },
        {
          "output_type": "display_data",
          "data": {
            "text/plain": [
              "<IPython.core.display.Javascript object>"
            ],
            "application/javascript": [
              "download(\"download_a9fb8c6c-8a8c-4191-b85f-d92ebb7c7f43\", \"DatosFolios_27052025.csv\", 345826)"
            ]
          },
          "metadata": {}
        }
      ]
    },
    {
      "cell_type": "code",
      "source": [
        "!pip install unidecode\n",
        "import pandas as pd\n",
        "import re\n",
        "import unidecode\n",
        "\n",
        "try:\n",
        "    df = pd.read_csv('/content/DatosFolios_27052025.csv', encoding='utf-8', on_bad_lines='warn')\n",
        "except UnicodeDecodeError:\n",
        "    try:\n",
        "        df = pd.read_csv('DatosFolios_27052025.csv', encoding='utf-8', on_bad_lines='warn')\n",
        "    except UnicodeDecodeError:\n",
        "        df = pd.read_csv('DatosFolios_27052025.csv', encoding='ISO-8859-1', on_bad_lines='warn')\n",
        "\n",
        "for col in df.columns:\n",
        "    new_col = ''.join(filter(str.isalnum, col))\n",
        "    df = df.rename(columns={col: new_col})\n",
        "    if df[new_col].dtype == 'object':\n",
        "        df[new_col] = df[new_col].astype(str).apply(lambda x: unidecode.unidecode(x) if isinstance(x, str) else x).str.replace('[^a-zA-Z0-9\\s]', '', regex=True).str.upper().str.replace('NAN','',regex=True)\n",
        "\n",
        "\n",
        "if 'FOLIOFINCAFICHA' in df.columns:\n",
        "    df['FINCA_Part1'] = df['FOLIOFINCAFICHA'].str.extract('(\\d+)', expand=False)\n",
        "    df['FINCA_Part2'] = df['FOLIOFINCAFICHA'].str.extract('(?:FOLIO REAL NO\\s*)(\\d+)', expand=False)\n",
        "    df['FINCA_Part3'] = df['FOLIOFINCAFICHA'].str.extract('(?:FOLIO REAL NO\\s*\\d+\\s*)(\\d+)', expand=False)\n",
        "\n",
        "df.to_csv('/content/DatosFoliosLimpios.csv', index=False)\n"
      ],
      "metadata": {
        "id": "TDdE2JLnCYZq",
        "colab": {
          "base_uri": "https://localhost:8080/"
        },
        "outputId": "9efc5843-41d0-4970-95b2-047f0a035a78"
      },
      "execution_count": null,
      "outputs": [
        {
          "output_type": "stream",
          "name": "stdout",
          "text": [
            "Collecting unidecode\n",
            "  Downloading Unidecode-1.4.0-py3-none-any.whl.metadata (13 kB)\n",
            "Downloading Unidecode-1.4.0-py3-none-any.whl (235 kB)\n",
            "\u001b[?25l   \u001b[90m━━━━━━━━━━━━━━━━━━━━━━━━━━━━━━━━━━━━━━━━\u001b[0m \u001b[32m0.0/235.8 kB\u001b[0m \u001b[31m?\u001b[0m eta \u001b[36m-:--:--\u001b[0m\r\u001b[2K   \u001b[90m━━━━━━━━━━━━━━━━━━━━━━━━━━━━━━━━━━━━━━━━\u001b[0m \u001b[32m235.8/235.8 kB\u001b[0m \u001b[31m12.3 MB/s\u001b[0m eta \u001b[36m0:00:00\u001b[0m\n",
            "\u001b[?25hInstalling collected packages: unidecode\n",
            "Successfully installed unidecode-1.4.0\n"
          ]
        }
      ]
    },
    {
      "cell_type": "code",
      "source": [
        "acreditados_df = pd.read_csv('ACREDITADOS.csv')\n",
        "folios_df = pd.read_csv('DatosFoliosLimpios.csv')\n",
        "\n",
        "acreditados_df['acreditadoidenti'] = acreditados_df['acreditadoidenti'].astype(str).str.replace('-', '').str.strip().str.replace('CO', '').str.replace('C0', '')\n",
        "\n",
        "merged_df = pd.merge(acreditados_df, folios_df, left_on='acreditadoidenti', right_on='IDENTIFICACION', how='inner')\n",
        "\n",
        "print(merged_df.head())\n",
        "\n",
        "merged_df = merged_df[~merged_df.duplicated(subset=['FINCA_Part2'], keep=False)]\n",
        "\n",
        "merged_df.to_csv('/content/merge_datosFolioslimpios2_26052025.csv', index= False)"
      ],
      "metadata": {
        "colab": {
          "base_uri": "https://localhost:8080/"
        },
        "id": "DKt7S7zZDkxM",
        "outputId": "1c6644d3-609c-4168-e092-e3a1b0e15547",
        "collapsed": true
      },
      "execution_count": null,
      "outputs": [
        {
          "output_type": "stream",
          "name": "stdout",
          "text": [
            "   acreditado_id  acreditadonum acreditadoidenti               acreditadonom  \\\n",
            "0          19404         343981          E887537                  YIJUAN GAN   \n",
            "1          19404         343981          E887537                  YIJUAN GAN   \n",
            "2          19404         343981          E887537                  YIJUAN GAN   \n",
            "3          19414       55002760          E860857        SOU LAN CHOW DE CHEN   \n",
            "4          19452       98865977          2861041  OMAR ANTONIO GRAELL RANGEL   \n",
            "\n",
            "   tipopersona_id  acreditadonumcuen              acrefechcre acreusucre  \\\n",
            "0               4   5521621502871550  2025-04-04 18:19:01.302      admin   \n",
            "1               4   5521621502871550  2025-04-04 18:19:01.302      admin   \n",
            "2               4   5521621502871550  2025-04-04 18:19:01.302      admin   \n",
            "3               4   5521621502888560  2025-04-04 18:19:01.302      admin   \n",
            "4               1   4343300000366540  2025-04-04 18:19:01.302      admin   \n",
            "\n",
            "  acreipcre              acrefechmod  ... acreobjcre acreobjmod  \\\n",
            "0   0.0.0.0  2025-04-04 18:19:01.302  ...  Migracion  Migracion   \n",
            "1   0.0.0.0  2025-04-04 18:19:01.302  ...  Migracion  Migracion   \n",
            "2   0.0.0.0  2025-04-04 18:19:01.302  ...  Migracion  Migracion   \n",
            "3   0.0.0.0  2025-04-04 18:19:01.302  ...  Migracion  Migracion   \n",
            "4   0.0.0.0  2025-04-04 18:19:01.302  ...  Migracion  Migracion   \n",
            "\n",
            "  IDENTIFICACION                                    FOLIOFINCAFICHA  \\\n",
            "0        E887537  INMUEBLE ATALAYA CODIGO DE UBICACION 9001  FOL...   \n",
            "1        E887537  INMUEBLE LA MESA CODIGO DE UBICACION 9301  FOL...   \n",
            "2        E887537  INMUEBLE SANTIAGO CODIGO DE UBICACION 9901  FO...   \n",
            "3        E860857  INMUEBLE COLON CODIGO DE UBICACION 3015  FOLIO...   \n",
            "4        2861041  INMUEBLE AGUADULCE CODIGO DE UBICACION 2001  F...   \n",
            "\n",
            "                                         PROPIETARIO  \\\n",
            "0                               YIJUAN GAN PROPIEDAD   \n",
            "1                               YIJUAN GAN PROPIEDAD   \n",
            "2                               YIJUAN GAN PROPIEDAD   \n",
            "3  CHOW SOU LAN PROPIEDAD RICARDO CHEN CHOW PROPI...   \n",
            "4               OMAR ANTONIO GRAELL RANGEL PROPIEDAD   \n",
            "\n",
            "                                           DOMICILIO  \\\n",
            "0  CORREGIMIENTO ATALAYA  DISTRITO ATALAYA  PROVI...   \n",
            "1  CORREGIMIENTO LA MESA   DISTRITO LA MESA  PROV...   \n",
            "2  LOTE 112  CORREGIMIENTO SANTIAGO  DISTRITO SAN...   \n",
            "3  CORREGIMIENTO CABECERA CRISTOBAL  DISTRITO COL...   \n",
            "4  CORREGIMIENTO AGUADULCE  DISTRITO AGUADULCE  P...   \n",
            "\n",
            "                                         FOLIOSMADRE FINCA_Part1 FINCA_Part2  \\\n",
            "0  INMUEBLE ATALAYA CODIGO DE UBICACION 9001  FOL...        9001       48636   \n",
            "1  INMUEBLE LA MESA CODIGO DE UBICACION 9301  FOL...        9301    30193524   \n",
            "2  INMUEBLE SANTIAGO CODIGO DE UBICACION 9901  FO...        9901    30345917   \n",
            "3  INMUEBLE COLON CODIGO DE UBICACION 3015  FOLIO...        3015        3776   \n",
            "4  INMUEBLE AGUADULCE CODIGO DE UBICACION 2001  F...        2001        7741   \n",
            "\n",
            "  FINCA_Part3  \n",
            "0           6  \n",
            "1           4  \n",
            "2           7  \n",
            "3           6  \n",
            "4           1  \n",
            "\n",
            "[5 rows x 23 columns]\n"
          ]
        }
      ]
    }
  ]
}